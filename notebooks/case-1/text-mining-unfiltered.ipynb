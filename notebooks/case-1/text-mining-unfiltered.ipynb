{
 "cells": [
  {
   "cell_type": "markdown",
   "metadata": {},
   "source": [
    "Won't find anything here"
   ]
  },
  {
   "cell_type": "code",
   "execution_count": 1,
   "metadata": {},
   "outputs": [],
   "source": [
    "import pandas as pd"
   ]
  },
  {
   "cell_type": "code",
   "execution_count": 2,
   "metadata": {},
   "outputs": [],
   "source": [
    "# df_filtered = pd.read_excel('ifm_filtered_data.xlsx', sheet_name='Sheet1')\n",
    "df_filtered = pd.read_excel('C:/Users/dbaeva/Documents/Docs/master-probability-causality/data/case-1/ifm_filtered_cut.xlsx', \n",
    "                            sheet_name='Sheet1')"
   ]
  },
  {
   "cell_type": "code",
   "execution_count": 25,
   "metadata": {},
   "outputs": [],
   "source": [
    "# df = pd.read_excel('SO-data.xlsx', sheet_name='Sheet1')"
   ]
  },
  {
   "cell_type": "code",
   "execution_count": 3,
   "metadata": {},
   "outputs": [],
   "source": [
    "df = df_filtered[df_filtered['Basic_start_date_timestamp_utc'].dt.year != 2023]"
   ]
  },
  {
   "cell_type": "markdown",
   "metadata": {},
   "source": [
    "Text Mining on the IFM Scaling Nodes"
   ]
  },
  {
   "cell_type": "code",
   "execution_count": 9,
   "metadata": {},
   "outputs": [
    {
     "data": {
      "text/html": [
       "<div>\n",
       "<style scoped>\n",
       "    .dataframe tbody tr th:only-of-type {\n",
       "        vertical-align: middle;\n",
       "    }\n",
       "\n",
       "    .dataframe tbody tr th {\n",
       "        vertical-align: top;\n",
       "    }\n",
       "\n",
       "    .dataframe thead th {\n",
       "        text-align: right;\n",
       "    }\n",
       "</style>\n",
       "<table border=\"1\" class=\"dataframe\">\n",
       "  <thead>\n",
       "    <tr style=\"text-align: right;\">\n",
       "      <th></th>\n",
       "      <th>Equipment_number</th>\n",
       "      <th>Maintenance_activity_type_description</th>\n",
       "      <th>Description</th>\n",
       "      <th>Basic_start_date_timestamp_utc</th>\n",
       "      <th>Basic_finish_date_timestamp_utc</th>\n",
       "    </tr>\n",
       "  </thead>\n",
       "  <tbody>\n",
       "  </tbody>\n",
       "</table>\n",
       "</div>"
      ],
      "text/plain": [
       "Empty DataFrame\n",
       "Columns: [Equipment_number, Maintenance_activity_type_description, Description, Basic_start_date_timestamp_utc, Basic_finish_date_timestamp_utc]\n",
       "Index: []"
      ]
     },
     "execution_count": 9,
     "metadata": {},
     "output_type": "execute_result"
    }
   ],
   "source": [
    "# Find rows containing power aom\n",
    "power_aom_df = df[df['Description'].str.contains('power aom|aom', case=False, na=False)]\n",
    "power_aom_df"
   ]
  },
  {
   "cell_type": "code",
   "execution_count": 11,
   "metadata": {},
   "outputs": [
    {
     "data": {
      "text/html": [
       "<div>\n",
       "<style scoped>\n",
       "    .dataframe tbody tr th:only-of-type {\n",
       "        vertical-align: middle;\n",
       "    }\n",
       "\n",
       "    .dataframe tbody tr th {\n",
       "        vertical-align: top;\n",
       "    }\n",
       "\n",
       "    .dataframe thead th {\n",
       "        text-align: right;\n",
       "    }\n",
       "</style>\n",
       "<table border=\"1\" class=\"dataframe\">\n",
       "  <thead>\n",
       "    <tr style=\"text-align: right;\">\n",
       "      <th></th>\n",
       "      <th>Equipment_number</th>\n",
       "      <th>Maintenance_activity_type_description</th>\n",
       "      <th>Description</th>\n",
       "      <th>Basic_start_date_timestamp_utc</th>\n",
       "      <th>Basic_finish_date_timestamp_utc</th>\n",
       "    </tr>\n",
       "  </thead>\n",
       "  <tbody>\n",
       "  </tbody>\n",
       "</table>\n",
       "</div>"
      ],
      "text/plain": [
       "Empty DataFrame\n",
       "Columns: [Equipment_number, Maintenance_activity_type_description, Description, Basic_start_date_timestamp_utc, Basic_finish_date_timestamp_utc]\n",
       "Index: []"
      ]
     },
     "execution_count": 11,
     "metadata": {},
     "output_type": "execute_result"
    }
   ],
   "source": [
    "# Find rows containing motor temp\n",
    "motor_temp_df = df[df['Description'].str.contains('motor temp|temp', case=False, na=False)]\n",
    "motor_temp_df"
   ]
  },
  {
   "cell_type": "code",
   "execution_count": 12,
   "metadata": {},
   "outputs": [
    {
     "data": {
      "text/html": [
       "<div>\n",
       "<style scoped>\n",
       "    .dataframe tbody tr th:only-of-type {\n",
       "        vertical-align: middle;\n",
       "    }\n",
       "\n",
       "    .dataframe tbody tr th {\n",
       "        vertical-align: top;\n",
       "    }\n",
       "\n",
       "    .dataframe thead th {\n",
       "        text-align: right;\n",
       "    }\n",
       "</style>\n",
       "<table border=\"1\" class=\"dataframe\">\n",
       "  <thead>\n",
       "    <tr style=\"text-align: right;\">\n",
       "      <th></th>\n",
       "      <th>Equipment_number</th>\n",
       "      <th>Maintenance_activity_type_description</th>\n",
       "      <th>Description</th>\n",
       "      <th>Basic_start_date_timestamp_utc</th>\n",
       "      <th>Basic_finish_date_timestamp_utc</th>\n",
       "    </tr>\n",
       "  </thead>\n",
       "  <tbody>\n",
       "  </tbody>\n",
       "</table>\n",
       "</div>"
      ],
      "text/plain": [
       "Empty DataFrame\n",
       "Columns: [Equipment_number, Maintenance_activity_type_description, Description, Basic_start_date_timestamp_utc, Basic_finish_date_timestamp_utc]\n",
       "Index: []"
      ]
     },
     "execution_count": 12,
     "metadata": {},
     "output_type": "execute_result"
    }
   ],
   "source": [
    "# Find rows containing airshowers\n",
    "air_showers_df = df[df['Description'].str.contains('airshower|airshowers', case=False, na=False)]\n",
    "air_showers_df"
   ]
  },
  {
   "cell_type": "code",
   "execution_count": 13,
   "metadata": {},
   "outputs": [
    {
     "data": {
      "text/html": [
       "<div>\n",
       "<style scoped>\n",
       "    .dataframe tbody tr th:only-of-type {\n",
       "        vertical-align: middle;\n",
       "    }\n",
       "\n",
       "    .dataframe tbody tr th {\n",
       "        vertical-align: top;\n",
       "    }\n",
       "\n",
       "    .dataframe thead th {\n",
       "        text-align: right;\n",
       "    }\n",
       "</style>\n",
       "<table border=\"1\" class=\"dataframe\">\n",
       "  <thead>\n",
       "    <tr style=\"text-align: right;\">\n",
       "      <th></th>\n",
       "      <th>Equipment_number</th>\n",
       "      <th>Maintenance_activity_type_description</th>\n",
       "      <th>Description</th>\n",
       "      <th>Basic_start_date_timestamp_utc</th>\n",
       "      <th>Basic_finish_date_timestamp_utc</th>\n",
       "    </tr>\n",
       "  </thead>\n",
       "  <tbody>\n",
       "  </tbody>\n",
       "</table>\n",
       "</div>"
      ],
      "text/plain": [
       "Empty DataFrame\n",
       "Columns: [Equipment_number, Maintenance_activity_type_description, Description, Basic_start_date_timestamp_utc, Basic_finish_date_timestamp_utc]\n",
       "Index: []"
      ]
     },
     "execution_count": 13,
     "metadata": {},
     "output_type": "execute_result"
    }
   ],
   "source": [
    "# Find rows containing pneumatic loop\n",
    "pneumatic_loop_df = df[df['Description'].str.contains('pneumatic loop|pneumatic', case=False, na=False)]\n",
    "pneumatic_loop_df"
   ]
  },
  {
   "cell_type": "code",
   "execution_count": 14,
   "metadata": {},
   "outputs": [
    {
     "data": {
      "text/html": [
       "<div>\n",
       "<style scoped>\n",
       "    .dataframe tbody tr th:only-of-type {\n",
       "        vertical-align: middle;\n",
       "    }\n",
       "\n",
       "    .dataframe tbody tr th {\n",
       "        vertical-align: top;\n",
       "    }\n",
       "\n",
       "    .dataframe thead th {\n",
       "        text-align: right;\n",
       "    }\n",
       "</style>\n",
       "<table border=\"1\" class=\"dataframe\">\n",
       "  <thead>\n",
       "    <tr style=\"text-align: right;\">\n",
       "      <th></th>\n",
       "      <th>Equipment_number</th>\n",
       "      <th>Maintenance_activity_type_description</th>\n",
       "      <th>Description</th>\n",
       "      <th>Basic_start_date_timestamp_utc</th>\n",
       "      <th>Basic_finish_date_timestamp_utc</th>\n",
       "    </tr>\n",
       "  </thead>\n",
       "  <tbody>\n",
       "  </tbody>\n",
       "</table>\n",
       "</div>"
      ],
      "text/plain": [
       "Empty DataFrame\n",
       "Columns: [Equipment_number, Maintenance_activity_type_description, Description, Basic_start_date_timestamp_utc, Basic_finish_date_timestamp_utc]\n",
       "Index: []"
      ]
     },
     "execution_count": 14,
     "metadata": {},
     "output_type": "execute_result"
    }
   ],
   "source": [
    "# Find rows containing cam monitoring\n",
    "cam_monitoring_df = df[df['Description'].str.contains('cam|cam monitoring', case=False, na=False)]\n",
    "cam_monitoring_df"
   ]
  },
  {
   "cell_type": "code",
   "execution_count": 16,
   "metadata": {},
   "outputs": [
    {
     "data": {
      "text/html": [
       "<div>\n",
       "<style scoped>\n",
       "    .dataframe tbody tr th:only-of-type {\n",
       "        vertical-align: middle;\n",
       "    }\n",
       "\n",
       "    .dataframe tbody tr th {\n",
       "        vertical-align: top;\n",
       "    }\n",
       "\n",
       "    .dataframe thead th {\n",
       "        text-align: right;\n",
       "    }\n",
       "</style>\n",
       "<table border=\"1\" class=\"dataframe\">\n",
       "  <thead>\n",
       "    <tr style=\"text-align: right;\">\n",
       "      <th></th>\n",
       "      <th>Equipment_number</th>\n",
       "      <th>Maintenance_activity_type_description</th>\n",
       "      <th>Description</th>\n",
       "      <th>Basic_start_date_timestamp_utc</th>\n",
       "      <th>Basic_finish_date_timestamp_utc</th>\n",
       "    </tr>\n",
       "  </thead>\n",
       "  <tbody>\n",
       "  </tbody>\n",
       "</table>\n",
       "</div>"
      ],
      "text/plain": [
       "Empty DataFrame\n",
       "Columns: [Equipment_number, Maintenance_activity_type_description, Description, Basic_start_date_timestamp_utc, Basic_finish_date_timestamp_utc]\n",
       "Index: []"
      ]
     },
     "execution_count": 16,
     "metadata": {},
     "output_type": "execute_result"
    }
   ],
   "source": [
    "# Find rows containing ACC_CAF_HEALTH_MONITOR\n",
    "acc_caf_health_mon_df = df[df['Description'].str.contains('ACC_CAF_HEALTH_MONITOR', case=False, na=False)]\n",
    "acc_caf_health_mon_df"
   ]
  },
  {
   "cell_type": "code",
   "execution_count": 17,
   "metadata": {},
   "outputs": [
    {
     "data": {
      "text/html": [
       "<div>\n",
       "<style scoped>\n",
       "    .dataframe tbody tr th:only-of-type {\n",
       "        vertical-align: middle;\n",
       "    }\n",
       "\n",
       "    .dataframe tbody tr th {\n",
       "        vertical-align: top;\n",
       "    }\n",
       "\n",
       "    .dataframe thead th {\n",
       "        text-align: right;\n",
       "    }\n",
       "</style>\n",
       "<table border=\"1\" class=\"dataframe\">\n",
       "  <thead>\n",
       "    <tr style=\"text-align: right;\">\n",
       "      <th></th>\n",
       "      <th>Equipment_number</th>\n",
       "      <th>Maintenance_activity_type_description</th>\n",
       "      <th>Description</th>\n",
       "      <th>Basic_start_date_timestamp_utc</th>\n",
       "      <th>Basic_finish_date_timestamp_utc</th>\n",
       "    </tr>\n",
       "  </thead>\n",
       "  <tbody>\n",
       "  </tbody>\n",
       "</table>\n",
       "</div>"
      ],
      "text/plain": [
       "Empty DataFrame\n",
       "Columns: [Equipment_number, Maintenance_activity_type_description, Description, Basic_start_date_timestamp_utc, Basic_finish_date_timestamp_utc]\n",
       "Index: []"
      ]
     },
     "execution_count": 17,
     "metadata": {},
     "output_type": "execute_result"
    }
   ],
   "source": [
    "# Find rows containing metroframe temp\n",
    "metroframe_temp_df = df[df['Description'].str.contains('metroframe temp', case=False, na=False)]\n",
    "metroframe_temp_df"
   ]
  },
  {
   "cell_type": "code",
   "execution_count": 18,
   "metadata": {},
   "outputs": [
    {
     "data": {
      "text/html": [
       "<div>\n",
       "<style scoped>\n",
       "    .dataframe tbody tr th:only-of-type {\n",
       "        vertical-align: middle;\n",
       "    }\n",
       "\n",
       "    .dataframe tbody tr th {\n",
       "        vertical-align: top;\n",
       "    }\n",
       "\n",
       "    .dataframe thead th {\n",
       "        text-align: right;\n",
       "    }\n",
       "</style>\n",
       "<table border=\"1\" class=\"dataframe\">\n",
       "  <thead>\n",
       "    <tr style=\"text-align: right;\">\n",
       "      <th></th>\n",
       "      <th>Equipment_number</th>\n",
       "      <th>Maintenance_activity_type_description</th>\n",
       "      <th>Description</th>\n",
       "      <th>Basic_start_date_timestamp_utc</th>\n",
       "      <th>Basic_finish_date_timestamp_utc</th>\n",
       "    </tr>\n",
       "  </thead>\n",
       "  <tbody>\n",
       "  </tbody>\n",
       "</table>\n",
       "</div>"
      ],
      "text/plain": [
       "Empty DataFrame\n",
       "Columns: [Equipment_number, Maintenance_activity_type_description, Description, Basic_start_date_timestamp_utc, Basic_finish_date_timestamp_utc]\n",
       "Index: []"
      ]
     },
     "execution_count": 18,
     "metadata": {},
     "output_type": "execute_result"
    }
   ],
   "source": [
    "# Find rows containing los airbearing\n",
    "los_airbearing_df = df[df['Description'].str.contains('los airbearing', case=False, na=False)]\n",
    "los_airbearing_df"
   ]
  },
  {
   "cell_type": "code",
   "execution_count": 19,
   "metadata": {},
   "outputs": [
    {
     "data": {
      "text/html": [
       "<div>\n",
       "<style scoped>\n",
       "    .dataframe tbody tr th:only-of-type {\n",
       "        vertical-align: middle;\n",
       "    }\n",
       "\n",
       "    .dataframe tbody tr th {\n",
       "        vertical-align: top;\n",
       "    }\n",
       "\n",
       "    .dataframe thead th {\n",
       "        text-align: right;\n",
       "    }\n",
       "</style>\n",
       "<table border=\"1\" class=\"dataframe\">\n",
       "  <thead>\n",
       "    <tr style=\"text-align: right;\">\n",
       "      <th></th>\n",
       "      <th>Equipment_number</th>\n",
       "      <th>Maintenance_activity_type_description</th>\n",
       "      <th>Description</th>\n",
       "      <th>Basic_start_date_timestamp_utc</th>\n",
       "      <th>Basic_finish_date_timestamp_utc</th>\n",
       "    </tr>\n",
       "  </thead>\n",
       "  <tbody>\n",
       "  </tbody>\n",
       "</table>\n",
       "</div>"
      ],
      "text/plain": [
       "Empty DataFrame\n",
       "Columns: [Equipment_number, Maintenance_activity_type_description, Description, Basic_start_date_timestamp_utc, Basic_finish_date_timestamp_utc]\n",
       "Index: []"
      ]
     },
     "execution_count": 19,
     "metadata": {},
     "output_type": "execute_result"
    }
   ],
   "source": [
    "# Find rows containing ss2 temp\n",
    "ss2_temp_df = df[df['Description'].str.contains('ss2 temp', case=False, na=False)]\n",
    "ss2_temp_df"
   ]
  },
  {
   "cell_type": "code",
   "execution_count": 20,
   "metadata": {},
   "outputs": [
    {
     "data": {
      "text/html": [
       "<div>\n",
       "<style scoped>\n",
       "    .dataframe tbody tr th:only-of-type {\n",
       "        vertical-align: middle;\n",
       "    }\n",
       "\n",
       "    .dataframe tbody tr th {\n",
       "        vertical-align: top;\n",
       "    }\n",
       "\n",
       "    .dataframe thead th {\n",
       "        text-align: right;\n",
       "    }\n",
       "</style>\n",
       "<table border=\"1\" class=\"dataframe\">\n",
       "  <thead>\n",
       "    <tr style=\"text-align: right;\">\n",
       "      <th></th>\n",
       "      <th>Equipment_number</th>\n",
       "      <th>Maintenance_activity_type_description</th>\n",
       "      <th>Description</th>\n",
       "      <th>Basic_start_date_timestamp_utc</th>\n",
       "      <th>Basic_finish_date_timestamp_utc</th>\n",
       "    </tr>\n",
       "  </thead>\n",
       "  <tbody>\n",
       "  </tbody>\n",
       "</table>\n",
       "</div>"
      ],
      "text/plain": [
       "Empty DataFrame\n",
       "Columns: [Equipment_number, Maintenance_activity_type_description, Description, Basic_start_date_timestamp_utc, Basic_finish_date_timestamp_utc]\n",
       "Index: []"
      ]
     },
     "execution_count": 20,
     "metadata": {},
     "output_type": "execute_result"
    }
   ],
   "source": [
    "# Find rows containing ss1 temp\n",
    "ss1_temp_df = df[df['Description'].str.contains('ss1 temp', case=False, na=False)]\n",
    "ss1_temp_df"
   ]
  },
  {
   "cell_type": "code",
   "execution_count": 21,
   "metadata": {},
   "outputs": [
    {
     "data": {
      "text/html": [
       "<div>\n",
       "<style scoped>\n",
       "    .dataframe tbody tr th:only-of-type {\n",
       "        vertical-align: middle;\n",
       "    }\n",
       "\n",
       "    .dataframe tbody tr th {\n",
       "        vertical-align: top;\n",
       "    }\n",
       "\n",
       "    .dataframe thead th {\n",
       "        text-align: right;\n",
       "    }\n",
       "</style>\n",
       "<table border=\"1\" class=\"dataframe\">\n",
       "  <thead>\n",
       "    <tr style=\"text-align: right;\">\n",
       "      <th></th>\n",
       "      <th>Equipment_number</th>\n",
       "      <th>Maintenance_activity_type_description</th>\n",
       "      <th>Description</th>\n",
       "      <th>Basic_start_date_timestamp_utc</th>\n",
       "      <th>Basic_finish_date_timestamp_utc</th>\n",
       "    </tr>\n",
       "  </thead>\n",
       "  <tbody>\n",
       "  </tbody>\n",
       "</table>\n",
       "</div>"
      ],
      "text/plain": [
       "Empty DataFrame\n",
       "Columns: [Equipment_number, Maintenance_activity_type_description, Description, Basic_start_date_timestamp_utc, Basic_finish_date_timestamp_utc]\n",
       "Index: []"
      ]
     },
     "execution_count": 21,
     "metadata": {},
     "output_type": "execute_result"
    }
   ],
   "source": [
    "# Find rows containing quick stop ws\n",
    "quick_stop_ws_df = df[df['Description'].str.contains('Quick Stop WS', case=False, na=False)]\n",
    "quick_stop_ws_df"
   ]
  },
  {
   "cell_type": "code",
   "execution_count": 22,
   "metadata": {},
   "outputs": [
    {
     "data": {
      "text/html": [
       "<div>\n",
       "<style scoped>\n",
       "    .dataframe tbody tr th:only-of-type {\n",
       "        vertical-align: middle;\n",
       "    }\n",
       "\n",
       "    .dataframe tbody tr th {\n",
       "        vertical-align: top;\n",
       "    }\n",
       "\n",
       "    .dataframe thead th {\n",
       "        text-align: right;\n",
       "    }\n",
       "</style>\n",
       "<table border=\"1\" class=\"dataframe\">\n",
       "  <thead>\n",
       "    <tr style=\"text-align: right;\">\n",
       "      <th></th>\n",
       "      <th>Equipment_number</th>\n",
       "      <th>Maintenance_activity_type_description</th>\n",
       "      <th>Description</th>\n",
       "      <th>Basic_start_date_timestamp_utc</th>\n",
       "      <th>Basic_finish_date_timestamp_utc</th>\n",
       "    </tr>\n",
       "  </thead>\n",
       "  <tbody>\n",
       "  </tbody>\n",
       "</table>\n",
       "</div>"
      ],
      "text/plain": [
       "Empty DataFrame\n",
       "Columns: [Equipment_number, Maintenance_activity_type_description, Description, Basic_start_date_timestamp_utc, Basic_finish_date_timestamp_utc]\n",
       "Index: []"
      ]
     },
     "execution_count": 22,
     "metadata": {},
     "output_type": "execute_result"
    }
   ],
   "source": [
    "# Find rows containing TIS_Mark Health (Athena)\n",
    "tis_mark_health_ath_df = df[df['Description'].str.contains('TIS_Mark Health', case=False, na=False)]\n",
    "tis_mark_health_ath_df"
   ]
  },
  {
   "cell_type": "code",
   "execution_count": 23,
   "metadata": {},
   "outputs": [
    {
     "data": {
      "text/html": [
       "<div>\n",
       "<style scoped>\n",
       "    .dataframe tbody tr th:only-of-type {\n",
       "        vertical-align: middle;\n",
       "    }\n",
       "\n",
       "    .dataframe tbody tr th {\n",
       "        vertical-align: top;\n",
       "    }\n",
       "\n",
       "    .dataframe thead th {\n",
       "        text-align: right;\n",
       "    }\n",
       "</style>\n",
       "<table border=\"1\" class=\"dataframe\">\n",
       "  <thead>\n",
       "    <tr style=\"text-align: right;\">\n",
       "      <th></th>\n",
       "      <th>Equipment_number</th>\n",
       "      <th>Maintenance_activity_type_description</th>\n",
       "      <th>Description</th>\n",
       "      <th>Basic_start_date_timestamp_utc</th>\n",
       "      <th>Basic_finish_date_timestamp_utc</th>\n",
       "    </tr>\n",
       "  </thead>\n",
       "  <tbody>\n",
       "  </tbody>\n",
       "</table>\n",
       "</div>"
      ],
      "text/plain": [
       "Empty DataFrame\n",
       "Columns: [Equipment_number, Maintenance_activity_type_description, Description, Basic_start_date_timestamp_utc, Basic_finish_date_timestamp_utc]\n",
       "Index: []"
      ]
     },
     "execution_count": 23,
     "metadata": {},
     "output_type": "execute_result"
    }
   ],
   "source": [
    "# Find rows containing TIS_Mark Health (Smash)\n",
    "tis_mark_health_smsh_df = df[df['Description'].str.contains('TIS_Mark Health', case=False, na=False)]\n",
    "tis_mark_health_smsh_df"
   ]
  },
  {
   "cell_type": "code",
   "execution_count": 24,
   "metadata": {},
   "outputs": [
    {
     "data": {
      "text/html": [
       "<div>\n",
       "<style scoped>\n",
       "    .dataframe tbody tr th:only-of-type {\n",
       "        vertical-align: middle;\n",
       "    }\n",
       "\n",
       "    .dataframe tbody tr th {\n",
       "        vertical-align: top;\n",
       "    }\n",
       "\n",
       "    .dataframe thead th {\n",
       "        text-align: right;\n",
       "    }\n",
       "</style>\n",
       "<table border=\"1\" class=\"dataframe\">\n",
       "  <thead>\n",
       "    <tr style=\"text-align: right;\">\n",
       "      <th></th>\n",
       "      <th>Equipment_number</th>\n",
       "      <th>Maintenance_activity_type_description</th>\n",
       "      <th>Description</th>\n",
       "      <th>Basic_start_date_timestamp_utc</th>\n",
       "      <th>Basic_finish_date_timestamp_utc</th>\n",
       "    </tr>\n",
       "  </thead>\n",
       "  <tbody>\n",
       "  </tbody>\n",
       "</table>\n",
       "</div>"
      ],
      "text/plain": [
       "Empty DataFrame\n",
       "Columns: [Equipment_number, Maintenance_activity_type_description, Description, Basic_start_date_timestamp_utc, Basic_finish_date_timestamp_utc]\n",
       "Index: []"
      ]
     },
     "execution_count": 24,
     "metadata": {},
     "output_type": "execute_result"
    }
   ],
   "source": [
    "# Find rows containing Reticle Alignment\n",
    "reticle_alignment_df = df[df['Description'].str.contains('Reticle Alignment', case=False, na=False)]\n",
    "reticle_alignment_df"
   ]
  },
  {
   "cell_type": "code",
   "execution_count": 25,
   "metadata": {},
   "outputs": [
    {
     "data": {
      "text/html": [
       "<div>\n",
       "<style scoped>\n",
       "    .dataframe tbody tr th:only-of-type {\n",
       "        vertical-align: middle;\n",
       "    }\n",
       "\n",
       "    .dataframe tbody tr th {\n",
       "        vertical-align: top;\n",
       "    }\n",
       "\n",
       "    .dataframe thead th {\n",
       "        text-align: right;\n",
       "    }\n",
       "</style>\n",
       "<table border=\"1\" class=\"dataframe\">\n",
       "  <thead>\n",
       "    <tr style=\"text-align: right;\">\n",
       "      <th></th>\n",
       "      <th>Equipment_number</th>\n",
       "      <th>Maintenance_activity_type_description</th>\n",
       "      <th>Description</th>\n",
       "      <th>Basic_start_date_timestamp_utc</th>\n",
       "      <th>Basic_finish_date_timestamp_utc</th>\n",
       "    </tr>\n",
       "  </thead>\n",
       "  <tbody>\n",
       "  </tbody>\n",
       "</table>\n",
       "</div>"
      ],
      "text/plain": [
       "Empty DataFrame\n",
       "Columns: [Equipment_number, Maintenance_activity_type_description, Description, Basic_start_date_timestamp_utc, Basic_finish_date_timestamp_utc]\n",
       "Index: []"
      ]
     },
     "execution_count": 25,
     "metadata": {},
     "output_type": "execute_result"
    }
   ],
   "source": [
    "# Find rows containing Air humidity\n",
    "air_humidity_df = df[df['Description'].str.contains('air humidity|air|humidity', case=False, na=False)]\n",
    "air_humidity_df"
   ]
  },
  {
   "cell_type": "code",
   "execution_count": 26,
   "metadata": {},
   "outputs": [
    {
     "data": {
      "text/html": [
       "<div>\n",
       "<style scoped>\n",
       "    .dataframe tbody tr th:only-of-type {\n",
       "        vertical-align: middle;\n",
       "    }\n",
       "\n",
       "    .dataframe tbody tr th {\n",
       "        vertical-align: top;\n",
       "    }\n",
       "\n",
       "    .dataframe thead th {\n",
       "        text-align: right;\n",
       "    }\n",
       "</style>\n",
       "<table border=\"1\" class=\"dataframe\">\n",
       "  <thead>\n",
       "    <tr style=\"text-align: right;\">\n",
       "      <th></th>\n",
       "      <th>Equipment_number</th>\n",
       "      <th>Maintenance_activity_type_description</th>\n",
       "      <th>Description</th>\n",
       "      <th>Basic_start_date_timestamp_utc</th>\n",
       "      <th>Basic_finish_date_timestamp_utc</th>\n",
       "    </tr>\n",
       "  </thead>\n",
       "  <tbody>\n",
       "  </tbody>\n",
       "</table>\n",
       "</div>"
      ],
      "text/plain": [
       "Empty DataFrame\n",
       "Columns: [Equipment_number, Maintenance_activity_type_description, Description, Basic_start_date_timestamp_utc, Basic_finish_date_timestamp_utc]\n",
       "Index: []"
      ]
     },
     "execution_count": 26,
     "metadata": {},
     "output_type": "execute_result"
    }
   ],
   "source": [
    "# Find rows containing instable wavelength\n",
    "instable_wavelength_df = df[df['Description'].str.contains('instable wavelength|wavelength', case=False, na=False)]\n",
    "instable_wavelength_df"
   ]
  },
  {
   "cell_type": "code",
   "execution_count": 27,
   "metadata": {},
   "outputs": [
    {
     "data": {
      "text/html": [
       "<div>\n",
       "<style scoped>\n",
       "    .dataframe tbody tr th:only-of-type {\n",
       "        vertical-align: middle;\n",
       "    }\n",
       "\n",
       "    .dataframe tbody tr th {\n",
       "        vertical-align: top;\n",
       "    }\n",
       "\n",
       "    .dataframe thead th {\n",
       "        text-align: right;\n",
       "    }\n",
       "</style>\n",
       "<table border=\"1\" class=\"dataframe\">\n",
       "  <thead>\n",
       "    <tr style=\"text-align: right;\">\n",
       "      <th></th>\n",
       "      <th>Equipment_number</th>\n",
       "      <th>Maintenance_activity_type_description</th>\n",
       "      <th>Description</th>\n",
       "      <th>Basic_start_date_timestamp_utc</th>\n",
       "      <th>Basic_finish_date_timestamp_utc</th>\n",
       "    </tr>\n",
       "  </thead>\n",
       "  <tbody>\n",
       "  </tbody>\n",
       "</table>\n",
       "</div>"
      ],
      "text/plain": [
       "Empty DataFrame\n",
       "Columns: [Equipment_number, Maintenance_activity_type_description, Description, Basic_start_date_timestamp_utc, Basic_finish_date_timestamp_utc]\n",
       "Index: []"
      ]
     },
     "execution_count": 27,
     "metadata": {},
     "output_type": "execute_result"
    }
   ],
   "source": [
    "# Find rows containing pressure baro\n",
    "pressure_baro_df = df[df['Description'].str.contains('pressure baro|pressure', case=False, na=False)]\n",
    "pressure_baro_df"
   ]
  },
  {
   "cell_type": "code",
   "execution_count": 29,
   "metadata": {},
   "outputs": [
    {
     "data": {
      "image/png": "[encoded data removed]",
      "text/plain": [
       "<Figure size 1000x600 with 1 Axes>"
      ]
     },
     "metadata": {},
     "output_type": "display_data"
    }
   ],
   "source": [
    "import matplotlib.pyplot as plt\n",
    "\n",
    "# List of dataframes and their names excluding 'df'\n",
    "dataframes = [\n",
    "    ('acc_caf_health_mon_df', acc_caf_health_mon_df),\n",
    "    ('air_humidity_df', air_humidity_df),\n",
    "    ('air_showers_df', air_showers_df),\n",
    "    ('cam_monitoring_df', cam_monitoring_df),\n",
    "    ('los_airbearing_df', los_airbearing_df),\n",
    "    ('metroframe_temp_df', metroframe_temp_df),\n",
    "    ('motor_temp_df', motor_temp_df),\n",
    "    ('pressure_baro_df', pressure_baro_df),\n",
    "    ('quick_stop_ws_df', quick_stop_ws_df),\n",
    "    ('reticle_alignment_df', reticle_alignment_df),\n",
    "    ('ss1_temp_df', ss1_temp_df),\n",
    "    ('ss2_temp_df', ss2_temp_df),\n",
    "    ('tis_mark_health_ath_df', tis_mark_health_ath_df),\n",
    "    ('tis_mark_health_smsh_df', tis_mark_health_smsh_df),\n",
    "    ('instable_wavelength_df', instable_wavelength_df),\n",
    "    ('pneumatic_loop_df', pneumatic_loop_df),\n",
    "    ('power_aom_df', power_aom_df),\n",
    "]\n",
    "\n",
    "# Get the number of instances in each dataframe\n",
    "counts = [(name, len(dfs)) for name, dfs in dataframes]\n",
    "\n",
    "# Sort the counts by the number of instances\n",
    "counts.sort(key=lambda x: x[1], reverse=True)\n",
    "\n",
    "# Create the bar chart\n",
    "names, values = zip(*counts)\n",
    "plt.figure(figsize=(10, 6))\n",
    "plt.bar(names, values)\n",
    "plt.xlabel('Dataframe Name')\n",
    "plt.ylabel('Number of Instances')\n",
    "plt.title('Number of Instances in Each Dataframe')\n",
    "plt.xticks(rotation=90)\n",
    "plt.show()"
   ]
  }
 ],
 "metadata": {
  "kernelspec": {
   "display_name": "bnenv",
   "language": "python",
   "name": "python3"
  },
  "language_info": {
   "codemirror_mode": {
    "name": "ipython",
    "version": 3
   },
   "file_extension": ".py",
   "mimetype": "text/x-python",
   "name": "python",
   "nbconvert_exporter": "python",
   "pygments_lexer": "ipython3",
   "version": "3.12.5"
  }
 },
 "nbformat": 4,
 "nbformat_minor": 2
}
